{
  "nbformat": 4,
  "nbformat_minor": 0,
  "metadata": {
    "colab": {
      "name": "Untitled0.ipynb",
      "provenance": [],
      "collapsed_sections": [],
      "include_colab_link": true
    },
    "kernelspec": {
      "name": "python3",
      "display_name": "Python 3"
    }
  },
  "cells": [
    {
      "cell_type": "markdown",
      "metadata": {
        "id": "view-in-github",
        "colab_type": "text"
      },
      "source": [
        "<a href=\"https://colab.research.google.com/github/AnupCloud/Angular-Django/blob/master/keras/tensorflow.ipynb\" target=\"_parent\"><img src=\"https://colab.research.google.com/assets/colab-badge.svg\" alt=\"Open In Colab\"/></a>"
      ]
    },
    {
      "cell_type": "code",
      "metadata": {
        "id": "xYrX_-pOmtHN",
        "colab_type": "code",
        "colab": {}
      },
      "source": [
        "from __future__ import absolute_import\n",
        "from __future__ import division\n",
        "from __future__ import print_function"
      ],
      "execution_count": 0,
      "outputs": []
    },
    {
      "cell_type": "code",
      "metadata": {
        "id": "KjDeCecPm0KB",
        "colab_type": "code",
        "colab": {
          "base_uri": "https://localhost:8080/",
          "height": 118
        },
        "outputId": "6d57aa02-5300-40fd-b743-b4e8bc6a34c0"
      },
      "source": [
        "# Install the latest version of TensorFlow\n",
        "pip install -q -U tensorflow\n"
      ],
      "execution_count": 3,
      "outputs": [
        {
          "output_type": "stream",
          "text": [
            "\u001b[K     |████████████████████████████████| 86.3MB 50kB/s \n",
            "\u001b[K     |████████████████████████████████| 3.8MB 36.1MB/s \n",
            "\u001b[K     |████████████████████████████████| 450kB 47.3MB/s \n",
            "\u001b[K     |████████████████████████████████| 81kB 12.2MB/s \n",
            "\u001b[31mERROR: tensorboard 2.0.2 has requirement grpcio>=1.24.3, but you'll have grpcio 1.15.0 which is incompatible.\u001b[0m\n",
            "\u001b[31mERROR: google-colab 1.0.0 has requirement google-auth~=1.4.0, but you'll have google-auth 1.10.0 which is incompatible.\u001b[0m\n",
            "\u001b[?25h"
          ],
          "name": "stdout"
        }
      ]
    },
    {
      "cell_type": "code",
      "metadata": {
        "id": "DTYE03AGnCZs",
        "colab_type": "code",
        "colab": {
          "base_uri": "https://localhost:8080/",
          "height": 50
        },
        "outputId": "07653e3f-537e-41a7-a2ec-0d75b9e2e5bc"
      },
      "source": [
        "pip install grpcio"
      ],
      "execution_count": 4,
      "outputs": [
        {
          "output_type": "stream",
          "text": [
            "Requirement already satisfied: grpcio in /usr/local/lib/python3.6/dist-packages (1.15.0)\n",
            "Requirement already satisfied: six>=1.5.2 in /usr/local/lib/python3.6/dist-packages (from grpcio) (1.12.0)\n"
          ],
          "name": "stdout"
        }
      ]
    },
    {
      "cell_type": "code",
      "metadata": {
        "id": "guknUqAmnYV7",
        "colab_type": "code",
        "colab": {
          "base_uri": "https://localhost:8080/",
          "height": 354
        },
        "outputId": "84e36203-523b-4bf7-d020-1ac039b1c5a8"
      },
      "source": [
        "pip install google-auth~=1.4.0\n"
      ],
      "execution_count": 5,
      "outputs": [
        {
          "output_type": "stream",
          "text": [
            "Collecting google-auth~=1.4.0\n",
            "\u001b[?25l  Downloading https://files.pythonhosted.org/packages/56/80/369a47c28ce7d9be6a6973338133d073864d8efbb62747e414c34a3a5f4f/google_auth-1.4.2-py2.py3-none-any.whl (64kB)\n",
            "\r\u001b[K     |█████                           | 10kB 18.5MB/s eta 0:00:01\r\u001b[K     |██████████▏                     | 20kB 2.2MB/s eta 0:00:01\r\u001b[K     |███████████████▎                | 30kB 3.3MB/s eta 0:00:01\r\u001b[K     |████████████████████▍           | 40kB 2.1MB/s eta 0:00:01\r\u001b[K     |█████████████████████████▌      | 51kB 2.7MB/s eta 0:00:01\r\u001b[K     |██████████████████████████████▋ | 61kB 3.2MB/s eta 0:00:01\r\u001b[K     |████████████████████████████████| 71kB 2.8MB/s \n",
            "\u001b[?25hRequirement already satisfied: cachetools>=2.0.0 in /usr/local/lib/python3.6/dist-packages (from google-auth~=1.4.0) (4.0.0)\n",
            "Requirement already satisfied: rsa>=3.1.4 in /usr/local/lib/python3.6/dist-packages (from google-auth~=1.4.0) (4.0)\n",
            "Requirement already satisfied: pyasn1-modules>=0.2.1 in /usr/local/lib/python3.6/dist-packages (from google-auth~=1.4.0) (0.2.7)\n",
            "Requirement already satisfied: six>=1.9.0 in /usr/local/lib/python3.6/dist-packages (from google-auth~=1.4.0) (1.12.0)\n",
            "Requirement already satisfied: pyasn1>=0.1.3 in /usr/local/lib/python3.6/dist-packages (from rsa>=3.1.4->google-auth~=1.4.0) (0.4.8)\n",
            "\u001b[31mERROR: tensorboard 2.0.2 has requirement google-auth<2,>=1.6.3, but you'll have google-auth 1.4.2 which is incompatible.\u001b[0m\n",
            "\u001b[31mERROR: tensorboard 2.0.2 has requirement grpcio>=1.24.3, but you'll have grpcio 1.15.0 which is incompatible.\u001b[0m\n",
            "Installing collected packages: google-auth\n",
            "  Found existing installation: google-auth 1.10.0\n",
            "    Uninstalling google-auth-1.10.0:\n",
            "      Successfully uninstalled google-auth-1.10.0\n",
            "Successfully installed google-auth-1.4.2\n"
          ],
          "name": "stdout"
        },
        {
          "output_type": "display_data",
          "data": {
            "application/vnd.colab-display-data+json": {
              "pip_warning": {
                "packages": [
                  "google"
                ]
              }
            }
          },
          "metadata": {
            "tags": []
          }
        }
      ]
    },
    {
      "cell_type": "code",
      "metadata": {
        "id": "hy2B3p3xn0Un",
        "colab_type": "code",
        "colab": {}
      },
      "source": [
        "pip install grpcio>=1.24.3\n"
      ],
      "execution_count": 0,
      "outputs": []
    },
    {
      "cell_type": "code",
      "metadata": {
        "id": "M-tAL5nJoA-3",
        "colab_type": "code",
        "colab": {
          "base_uri": "https://localhost:8080/",
          "height": 34
        },
        "outputId": "cf153d8a-2765-4324-e3fb-9304eaf98863"
      },
      "source": [
        "pip install google-auth<2,>=1.6.3"
      ],
      "execution_count": 2,
      "outputs": [
        {
          "output_type": "stream",
          "text": [
            "/bin/bash: 2,: No such file or directory\n"
          ],
          "name": "stdout"
        }
      ]
    },
    {
      "cell_type": "code",
      "metadata": {
        "id": "eN1U_DeUoHoL",
        "colab_type": "code",
        "colab": {}
      },
      "source": [
        "pip install google-auth>=1.6.3"
      ],
      "execution_count": 0,
      "outputs": []
    },
    {
      "cell_type": "code",
      "metadata": {
        "id": "LV4to94uoQ87",
        "colab_type": "code",
        "colab": {
          "base_uri": "https://localhost:8080/",
          "height": 34
        },
        "outputId": "815aa4a2-1213-4d1f-b458-f10da8c31273"
      },
      "source": [
        "\n",
        "import itertools\n",
        "import os\n",
        "import math\n",
        "import numpy as np\n",
        "import pandas as pd\n",
        "import tensorflow as tf\n",
        "\n",
        "from sklearn.preprocessing import LabelEncoder\n",
        "from tensorflow import keras\n",
        "layers = keras.layers\n",
        "\n",
        "# This code was tested with TensorFlow v1.7\n",
        "print(\"You have TensorFlow version\", tf.__version__)"
      ],
      "execution_count": 4,
      "outputs": [
        {
          "output_type": "stream",
          "text": [
            "You have TensorFlow version 2.0.0\n"
          ],
          "name": "stdout"
        }
      ]
    },
    {
      "cell_type": "code",
      "metadata": {
        "id": "bYM98-F1oWuL",
        "colab_type": "code",
        "colab": {}
      },
      "source": [
        "# Get the data: original source is here: https://www.kaggle.com/zynicide/wine-reviews/data\n",
        "URL = \"https://storage.googleapis.com/sara-cloud-ml/wine_data.csv\"\n",
        "path = tf.keras.utils.get_file(URL.split('/')[-1], URL)\n"
      ],
      "execution_count": 0,
      "outputs": []
    },
    {
      "cell_type": "code",
      "metadata": {
        "id": "lFk3c2ZZqIRF",
        "colab_type": "code",
        "colab": {}
      },
      "source": [
        "# Convert the data to a Pandas data frame\n",
        "data = pd.read_csv(path)"
      ],
      "execution_count": 0,
      "outputs": []
    },
    {
      "cell_type": "code",
      "metadata": {
        "id": "a9p6l6wwqU-0",
        "colab_type": "code",
        "colab": {
          "base_uri": "https://localhost:8080/",
          "height": 296
        },
        "outputId": "f187f293-aa11-44dd-a54b-3c317c996283"
      },
      "source": [
        "# Shuffle the data\n",
        "data = data.sample(frac=1)\n",
        "\n",
        "# Print the first 5 rows\n",
        "data.head()\n",
        "\n"
      ],
      "execution_count": 9,
      "outputs": [
        {
          "output_type": "execute_result",
          "data": {
            "text/html": [
              "<div>\n",
              "<style scoped>\n",
              "    .dataframe tbody tr th:only-of-type {\n",
              "        vertical-align: middle;\n",
              "    }\n",
              "\n",
              "    .dataframe tbody tr th {\n",
              "        vertical-align: top;\n",
              "    }\n",
              "\n",
              "    .dataframe thead th {\n",
              "        text-align: right;\n",
              "    }\n",
              "</style>\n",
              "<table border=\"1\" class=\"dataframe\">\n",
              "  <thead>\n",
              "    <tr style=\"text-align: right;\">\n",
              "      <th></th>\n",
              "      <th>Unnamed: 0</th>\n",
              "      <th>country</th>\n",
              "      <th>description</th>\n",
              "      <th>designation</th>\n",
              "      <th>points</th>\n",
              "      <th>price</th>\n",
              "      <th>province</th>\n",
              "      <th>region_1</th>\n",
              "      <th>region_2</th>\n",
              "      <th>variety</th>\n",
              "      <th>winery</th>\n",
              "    </tr>\n",
              "  </thead>\n",
              "  <tbody>\n",
              "    <tr>\n",
              "      <th>94047</th>\n",
              "      <td>94047</td>\n",
              "      <td>France</td>\n",
              "      <td>Beautifully balanced and poised, this blends l...</td>\n",
              "      <td>Pas de Deux</td>\n",
              "      <td>90</td>\n",
              "      <td>NaN</td>\n",
              "      <td>Southwest France</td>\n",
              "      <td>Jurançon</td>\n",
              "      <td>NaN</td>\n",
              "      <td>Gros and Petit Manseng</td>\n",
              "      <td>Domaine Nigri</td>\n",
              "    </tr>\n",
              "    <tr>\n",
              "      <th>59729</th>\n",
              "      <td>59729</td>\n",
              "      <td>South Africa</td>\n",
              "      <td>Fresh, spicy and floral, this Rhône-style blen...</td>\n",
              "      <td>Goats do Roam</td>\n",
              "      <td>88</td>\n",
              "      <td>10.0</td>\n",
              "      <td>Western Cape</td>\n",
              "      <td>NaN</td>\n",
              "      <td>NaN</td>\n",
              "      <td>White Blend</td>\n",
              "      <td>Goats do Roam Wine Co.</td>\n",
              "    </tr>\n",
              "    <tr>\n",
              "      <th>591</th>\n",
              "      <td>591</td>\n",
              "      <td>US</td>\n",
              "      <td>Fruit from the oldest blocks in this pioneerin...</td>\n",
              "      <td>Medici Vineyard</td>\n",
              "      <td>93</td>\n",
              "      <td>48.0</td>\n",
              "      <td>Oregon</td>\n",
              "      <td>Chehalem Mountains</td>\n",
              "      <td>Willamette Valley</td>\n",
              "      <td>Pinot Noir</td>\n",
              "      <td>Patricia Green Cellars</td>\n",
              "    </tr>\n",
              "    <tr>\n",
              "      <th>17342</th>\n",
              "      <td>17342</td>\n",
              "      <td>US</td>\n",
              "      <td>This dry, country-style Cab has some sharp, gr...</td>\n",
              "      <td>NaN</td>\n",
              "      <td>84</td>\n",
              "      <td>18.0</td>\n",
              "      <td>California</td>\n",
              "      <td>Paso Robles</td>\n",
              "      <td>Central Coast</td>\n",
              "      <td>Cabernet Sauvignon</td>\n",
              "      <td>Bishop's Peak</td>\n",
              "    </tr>\n",
              "    <tr>\n",
              "      <th>106109</th>\n",
              "      <td>106109</td>\n",
              "      <td>Argentina</td>\n",
              "      <td>Generic, solid aromas of medicinal raspberry a...</td>\n",
              "      <td>NaN</td>\n",
              "      <td>84</td>\n",
              "      <td>11.0</td>\n",
              "      <td>Mendoza Province</td>\n",
              "      <td>Mendoza</td>\n",
              "      <td>NaN</td>\n",
              "      <td>Cabernet Sauvignon</td>\n",
              "      <td>Terrazas de Los Andes</td>\n",
              "    </tr>\n",
              "  </tbody>\n",
              "</table>\n",
              "</div>"
            ],
            "text/plain": [
              "        Unnamed: 0  ...                  winery\n",
              "94047        94047  ...           Domaine Nigri\n",
              "59729        59729  ...  Goats do Roam Wine Co.\n",
              "591            591  ...  Patricia Green Cellars\n",
              "17342        17342  ...           Bishop's Peak\n",
              "106109      106109  ...   Terrazas de Los Andes\n",
              "\n",
              "[5 rows x 11 columns]"
            ]
          },
          "metadata": {
            "tags": []
          },
          "execution_count": 9
        }
      ]
    },
    {
      "cell_type": "code",
      "metadata": {
        "id": "3Svo4ztRqZ1f",
        "colab_type": "code",
        "colab": {}
      },
      "source": [
        ""
      ],
      "execution_count": 0,
      "outputs": []
    }
  ]
}